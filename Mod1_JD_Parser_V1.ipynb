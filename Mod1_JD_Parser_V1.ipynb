{
  "nbformat": 4,
  "nbformat_minor": 0,
  "metadata": {
    "colab": {
      "provenance": [],
      "authorship_tag": "ABX9TyO5v7ZOpYYBUhfxZsPsSMDd",
      "include_colab_link": true
    },
    "kernelspec": {
      "name": "python3",
      "display_name": "Python 3"
    },
    "language_info": {
      "name": "python"
    }
  },
  "cells": [
    {
      "cell_type": "markdown",
      "metadata": {
        "id": "view-in-github",
        "colab_type": "text"
      },
      "source": [
        "<a href=\"https://colab.research.google.com/github/samarthdargan/ResumeParser/blob/main/Mod1_JD_Parser_V1.ipynb\" target=\"_parent\"><img src=\"https://colab.research.google.com/assets/colab-badge.svg\" alt=\"Open In Colab\"/></a>"
      ]
    },
    {
      "cell_type": "code",
      "execution_count": null,
      "metadata": {
        "colab": {
          "base_uri": "https://localhost:8080/"
        },
        "id": "c6OI5VJygzKn",
        "outputId": "83c4483d-727c-40c3-c19c-0c9718eb38fa"
      },
      "outputs": [
        {
          "output_type": "stream",
          "name": "stdout",
          "text": [
            "Collecting groq\n",
            "  Downloading groq-0.13.1-py3-none-any.whl.metadata (14 kB)\n",
            "Requirement already satisfied: anyio<5,>=3.5.0 in /usr/local/lib/python3.10/dist-packages (from groq) (3.7.1)\n",
            "Requirement already satisfied: distro<2,>=1.7.0 in /usr/local/lib/python3.10/dist-packages (from groq) (1.9.0)\n",
            "Requirement already satisfied: httpx<1,>=0.23.0 in /usr/local/lib/python3.10/dist-packages (from groq) (0.28.1)\n",
            "Requirement already satisfied: pydantic<3,>=1.9.0 in /usr/local/lib/python3.10/dist-packages (from groq) (2.10.3)\n",
            "Requirement already satisfied: sniffio in /usr/local/lib/python3.10/dist-packages (from groq) (1.3.1)\n",
            "Requirement already satisfied: typing-extensions<5,>=4.10 in /usr/local/lib/python3.10/dist-packages (from groq) (4.12.2)\n",
            "Requirement already satisfied: idna>=2.8 in /usr/local/lib/python3.10/dist-packages (from anyio<5,>=3.5.0->groq) (3.10)\n",
            "Requirement already satisfied: exceptiongroup in /usr/local/lib/python3.10/dist-packages (from anyio<5,>=3.5.0->groq) (1.2.2)\n",
            "Requirement already satisfied: certifi in /usr/local/lib/python3.10/dist-packages (from httpx<1,>=0.23.0->groq) (2024.12.14)\n",
            "Requirement already satisfied: httpcore==1.* in /usr/local/lib/python3.10/dist-packages (from httpx<1,>=0.23.0->groq) (1.0.7)\n",
            "Requirement already satisfied: h11<0.15,>=0.13 in /usr/local/lib/python3.10/dist-packages (from httpcore==1.*->httpx<1,>=0.23.0->groq) (0.14.0)\n",
            "Requirement already satisfied: annotated-types>=0.6.0 in /usr/local/lib/python3.10/dist-packages (from pydantic<3,>=1.9.0->groq) (0.7.0)\n",
            "Requirement already satisfied: pydantic-core==2.27.1 in /usr/local/lib/python3.10/dist-packages (from pydantic<3,>=1.9.0->groq) (2.27.1)\n",
            "Downloading groq-0.13.1-py3-none-any.whl (109 kB)\n",
            "\u001b[?25l   \u001b[90m━━━━━━━━━━━━━━━━━━━━━━━━━━━━━━━━━━━━━━━━\u001b[0m \u001b[32m0.0/109.1 kB\u001b[0m \u001b[31m?\u001b[0m eta \u001b[36m-:--:--\u001b[0m\r\u001b[2K   \u001b[90m━━━━━━━━━━━━━━━━━━━━━━━━━━━━━━━━━━━━━━━━\u001b[0m \u001b[32m109.1/109.1 kB\u001b[0m \u001b[31m3.1 MB/s\u001b[0m eta \u001b[36m0:00:00\u001b[0m\n",
            "\u001b[?25hInstalling collected packages: groq\n",
            "Successfully installed groq-0.13.1\n",
            "Collecting PyPDF2\n",
            "  Downloading pypdf2-3.0.1-py3-none-any.whl.metadata (6.8 kB)\n",
            "Downloading pypdf2-3.0.1-py3-none-any.whl (232 kB)\n",
            "\u001b[2K   \u001b[90m━━━━━━━━━━━━━━━━━━━━━━━━━━━━━━━━━━━━━━━━\u001b[0m \u001b[32m232.6/232.6 kB\u001b[0m \u001b[31m4.3 MB/s\u001b[0m eta \u001b[36m0:00:00\u001b[0m\n",
            "\u001b[?25hInstalling collected packages: PyPDF2\n",
            "Successfully installed PyPDF2-3.0.1\n"
          ]
        }
      ],
      "source": [
        "! pip install groq\n",
        "!  pip install PyPDF2"
      ]
    },
    {
      "cell_type": "code",
      "source": [
        "from groq import Groq\n",
        "import re\n",
        "import json\n",
        "from PyPDF2 import PdfReader\n",
        "from google.colab import drive"
      ],
      "metadata": {
        "id": "7F3ppkr1g0aI"
      },
      "execution_count": null,
      "outputs": []
    },
    {
      "cell_type": "code",
      "source": [
        "def extract_text_from_pdf(pdf_path):\n",
        "    \"\"\"Extract text from a PDF file.\"\"\"\n",
        "    reader = PdfReader(pdf_path)\n",
        "    text = \"\"\n",
        "    for page in reader.pages:\n",
        "        text += page.extract_text()\n",
        "    return text"
      ],
      "metadata": {
        "id": "rigKz9yWg0dM"
      },
      "execution_count": null,
      "outputs": []
    },
    {
      "cell_type": "code",
      "source": [
        "def clean_jd_text(text):\n",
        "  \"\"\"Clean and preprocess raw resume text.\"\"\"\n",
        "  # Remove extra spaces, newlines, and special characters\n",
        "  text = re.sub(r\"\\n+\", \" \", text)\n",
        "  text = re.sub(r\"\\s+\", \" \", text)\n",
        "  text = re.sub(r\"[^\\w\\s@.,+()-]\", \"\", text)\n",
        "\n",
        "  return text.strip()"
      ],
      "metadata": {
        "id": "XhTV1ibZg0g-"
      },
      "execution_count": null,
      "outputs": []
    },
    {
      "cell_type": "code",
      "source": [
        "def preprocess_jd_with_groc(jd_text):\n",
        "\n",
        "  client = Groq(api_key = '')\n",
        "\n",
        "  prompt = f\"\"\"\n",
        "\n",
        "  Extract the following details from this job description:\n",
        "  1. Job Title\n",
        "  2. Skills (required and preferred)\n",
        "  3. Responsibilities\n",
        "  4. Experience (years of experience required)\n",
        "  5. Education\n",
        "  6. Location\n",
        "  7. Salary Range (if available)\n",
        "\n",
        "  Job Description:\n",
        "  {jd_text}\n",
        "\n",
        "  Provide the output as a structured JSON object.\n",
        "  \"\"\"\n",
        "\n",
        "\n",
        "  completion = client.chat.completions.create(\n",
        "    model=\"llama3-8b-8192\",\n",
        "    messages=[\n",
        "        {\n",
        "            \"role\": \"system\",\n",
        "            \"content\": \"You are a helpful assistant that processes job descriptions.\"\n",
        "        },\n",
        "        {\n",
        "            \"role\": \"user\",\n",
        "            \"content\": prompt\n",
        "        }\n",
        "    ],\n",
        "    temperature=1,\n",
        "    max_tokens=1024,\n",
        "    top_p=1,\n",
        "    stream=False,\n",
        "    response_format={\"type\": \"json_object\"},\n",
        "    stop=None,\n",
        "  )\n",
        "\n",
        "  result = completion.choices[0].message.content.strip()\n",
        "  # Validate JSON format\n",
        "  try:\n",
        "    return json.loads(result)\n",
        "  except json.JSONDecodeError:\n",
        "    print(\"Failed to decode JSON. Output was:\\n\", result)\n",
        "    return None"
      ],
      "metadata": {
        "id": "nmSG3RRlg0kG"
      },
      "execution_count": null,
      "outputs": []
    },
    {
      "cell_type": "code",
      "source": [
        "drive.mount('/content/drive')\n",
        "\n",
        "pdf_path = \"/content/drive/My Drive/Nautilus/JDs/JOBID001.pdf\"\n",
        "jd_text = extract_text_from_pdf(pdf_path)\n",
        "clean_jd_text_val = clean_jd_text(jd_text)\n",
        "json_text = preprocess_jd_with_groc(clean_jd_text_val)\n",
        "json_text"
      ],
      "metadata": {
        "colab": {
          "base_uri": "https://localhost:8080/"
        },
        "id": "_ZWVjZV5g0nM",
        "outputId": "6ca95310-58f0-4449-8bee-e19a3d7bf40f"
      },
      "execution_count": null,
      "outputs": [
        {
          "output_type": "stream",
          "name": "stdout",
          "text": [
            "Drive already mounted at /content/drive; to attempt to forcibly remount, call drive.mount(\"/content/drive\", force_remount=True).\n"
          ]
        },
        {
          "output_type": "execute_result",
          "data": {
            "text/plain": [
              "{'Job Title': 'Software Engineer - Frontend',\n",
              " 'Skills': {'Required': ['Flutter'],\n",
              "  'Preferred': ['HTML', 'CSS', 'JS', 'Python', 'Angular', 'Android Studio']},\n",
              " 'Responsibilities': ['Full Stack Developer',\n",
              "  'Experienced in front end and back end',\n",
              "  'Knowledge in structure and design of web pages and mobile apps'],\n",
              " 'Experience': '0-2 Years',\n",
              " 'Education': 'Degree in computer engineering or related field',\n",
              " 'Location': 'In-country Hire Only',\n",
              " 'Salary Range': 'QAR 2,001 - QAR 5,000'}"
            ]
          },
          "metadata": {},
          "execution_count": 23
        }
      ]
    },
    {
      "cell_type": "code",
      "source": [
        "jd_text"
      ],
      "metadata": {
        "colab": {
          "base_uri": "https://localhost:8080/",
          "height": 88
        },
        "id": "peUnKsscg0qU",
        "outputId": "9ac052ff-4786-4ac9-f41e-da01b97ca5a9"
      },
      "execution_count": null,
      "outputs": [
        {
          "output_type": "execute_result",
          "data": {
            "text/plain": [
              "'JOBID001  \\nJob Title : Software Engineer - Frontend  \\nJOB CATEGORY  \\nIT/Technology  \\nPOSITION  \\nSoftware Engineer  \\nYEARS OF EXPERIENCE  \\n0-2 Years  \\nGENDER: Any  \\nSALARY RANGE  \\nQAR 2,001 - QAR 5,000  \\nAPPLICANT LOCATION  \\nIn-country Hire Only  \\nDescription  \\nFull Stack Developer  \\n Proficiency in front end and back end  \\n Flutter Experience is advantage  \\n Knowledge in HTML, CSS, JS, Python, Angular, Android Studio  \\n Degree in computer engineering or related field  \\n Experience in structure and design of web pages and mobile apps  \\nShare your CV only whatsapp : Show number30304424  \\nInformation  \\nDesired Skills & Experience  \\nSoftware Developer  \\n '"
            ],
            "application/vnd.google.colaboratory.intrinsic+json": {
              "type": "string"
            }
          },
          "metadata": {},
          "execution_count": 22
        }
      ]
    },
    {
      "cell_type": "code",
      "source": [
        "pdf_path = \"/content/drive/My Drive/Nautilus/JDs/JOBID002.pdf\"\n",
        "reader = PdfReader(pdf_path)\n",
        "reader.pages[0]"
      ],
      "metadata": {
        "colab": {
          "base_uri": "https://localhost:8080/"
        },
        "id": "J1DW3h4Jg0tX",
        "outputId": "2a4ff6fc-15ab-4abb-bb8d-51f08db57ce6"
      },
      "execution_count": null,
      "outputs": [
        {
          "output_type": "execute_result",
          "data": {
            "text/plain": [
              "{'/Contents': [IndirectObject(4, 0, 135728285287424),\n",
              "  IndirectObject(5, 0, 135728285287424),\n",
              "  IndirectObject(6, 0, 135728285287424),\n",
              "  IndirectObject(7, 0, 135728285287424),\n",
              "  IndirectObject(8, 0, 135728285287424),\n",
              "  IndirectObject(9, 0, 135728285287424),\n",
              "  IndirectObject(10, 0, 135728285287424),\n",
              "  IndirectObject(11, 0, 135728285287424),\n",
              "  IndirectObject(12, 0, 135728285287424),\n",
              "  IndirectObject(13, 0, 135728285287424)],\n",
              " '/CropBox': [0, 0, 612, 792],\n",
              " '/MediaBox': [0, 0, 612, 792],\n",
              " '/Parent': {'/Count': 2,\n",
              "  '/Kids': [IndirectObject(3, 0, 135728285287424),\n",
              "   IndirectObject(15, 0, 135728285287424)],\n",
              "  '/Type': '/Pages'},\n",
              " '/Resources': {},\n",
              " '/Rotate': 0,\n",
              " '/Type': '/Page'}"
            ]
          },
          "metadata": {},
          "execution_count": 20
        }
      ]
    },
    {
      "cell_type": "code",
      "source": [
        "text = \"\"\n",
        "for page in reader.pages:\n",
        "    text += page.extract_text()"
      ],
      "metadata": {
        "id": "Kl0X92f8g0wL"
      },
      "execution_count": null,
      "outputs": []
    },
    {
      "cell_type": "code",
      "source": [
        "text"
      ],
      "metadata": {
        "colab": {
          "base_uri": "https://localhost:8080/",
          "height": 36
        },
        "id": "fhuJiJ3njYww",
        "outputId": "2ba770c2-69aa-4dbe-ee9c-e5a94c9e3b94"
      },
      "execution_count": null,
      "outputs": [
        {
          "output_type": "execute_result",
          "data": {
            "text/plain": [
              "''"
            ],
            "application/vnd.google.colaboratory.intrinsic+json": {
              "type": "string"
            }
          },
          "metadata": {},
          "execution_count": 17
        }
      ]
    }
  ]
}